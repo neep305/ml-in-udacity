{
 "cells": [
  {
   "cell_type": "markdown",
   "metadata": {},
   "source": [
    "# 컴퓨터를 이용한 마케팅 예제"
   ]
  },
  {
   "cell_type": "markdown",
   "metadata": {},
   "source": [
    "사용자가 특정 제품을 추천받을 때 구매할지 말지 결정하는 분류 모델을 만든다고 가정하자.\n",
    "\n",
    "수집된 유사 사용자의 행위가 아닌 사용자와 제품의 특징으로 분류를 처리하는 예제이기 때문에 완전한 추천 시스템은 아니다.\n",
    "\n",
    "우선 GS SHOP에 있는 DataHub 테이블에 있는 주요 데이터를 이용한다고 가정하고, 아래와 같은 테이블을 사용한다.\n",
    "- User : birthDate | gender\n",
    "- Offer : userId | productId| price | discount | time\n",
    "- Product : typeId | colorId\n",
    "- Purchase : offerId | time"
   ]
  },
  {
   "cell_type": "markdown",
   "metadata": {},
   "source": [
    "# 복수 테이블에 있는 데이터를 단일 레코드화"
   ]
  },
  {
   "cell_type": "markdown",
   "metadata": {},
   "source": [
    "분류 가능한 데이터를 얻기 위해서 훈련 예제는 여러 데이터 소스에서 수집한 데이터를 비정규화해서 어떤 일이 생겼는지 설명하는 단일 레코드로 만든다. 어떤 변수는 변형된 형태로 생일을 나이로 표현하고 구매시점을 지연으로 표현한다\n",
    "\n",
    "$ age | gender (사용자 정보) | typeId | colorId(아이템 정보) | price | discount | offerTime(제안정보) | purchaseDelay(제안과 구매 정보) | purchased (목표변수) | $"
   ]
  },
  {
   "cell_type": "code",
   "execution_count": null,
   "metadata": {
    "collapsed": true
   },
   "outputs": [],
   "source": []
  }
 ],
 "metadata": {
  "anaconda-cloud": {},
  "kernelspec": {
   "display_name": "Python [conda root]",
   "language": "python",
   "name": "conda-root-py"
  },
  "language_info": {
   "codemirror_mode": {
    "name": "ipython",
    "version": 3
   },
   "file_extension": ".py",
   "mimetype": "text/x-python",
   "name": "python",
   "nbconvert_exporter": "python",
   "pygments_lexer": "ipython3",
   "version": "3.5.2"
  }
 },
 "nbformat": 4,
 "nbformat_minor": 1
}
