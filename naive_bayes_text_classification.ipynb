{
 "cells": [
  {
   "cell_type": "markdown",
   "metadata": {},
   "source": [
    "# Learning to Classify Text\n",
    "\n",
    "Why?\n",
    "- Learn which news articles are of interest\n",
    "- Learn to classify web pages by topic\n",
    "\n",
    "What attributes shall we use to represent text documents?"
   ]
  },
  {
   "cell_type": "markdown",
   "metadata": {},
   "source": [
    "Target concept Interesting? : Document --> {+,-}\n",
    "1. Represent each document by vector of words\n",
    "    - one attribute per word position in document\n",
    "2. Learning: Use training examples to estimate\n",
    "    - P(+)\n",
    "    - P(-)\n",
    "    - P(doc|+)\n",
    "    - P(doc|-)\n",
    "\n",
    "Naive Bayes conditional independence assumption\n",
    "\n",
    "$$\n",
    "P(doc \\mid V_j) \\;\\; \\propto \\;\\; \\prod_{i=1}^n P(a_{\\text{i}} = W_k \\mid V_j)\n",
    "$$"
   ]
  },
  {
   "cell_type": "markdown",
   "metadata": {},
   "source": [
    "# An Example: Movie Reviews"
   ]
  },
  {
   "cell_type": "markdown",
   "metadata": {},
   "source": [
    "You have a set of reviews (documents) and a classification"
   ]
  },
  {
   "cell_type": "markdown",
   "metadata": {},
   "source": [
    "|Doc|Text|Class|\n",
    "|:--:|:--|:--:|\n",
    "|1|I loved the movie|+|\n",
    "|2|I hated the movie|-|\n",
    "|3|a greate movie. good movie|+|\n",
    "|4|poor acting|-|\n",
    "|5|great acting. a good movie|+|"
   ]
  },
  {
   "cell_type": "markdown",
   "metadata": {},
   "source": [
    "10 Unique words:\n",
    "I,loved,the,movie,hated,a,great,poor,acting,good"
   ]
  },
  {
   "cell_type": "markdown",
   "metadata": {},
   "source": [
    "Convert the documents into feature sets, where the attributes are possible words, and the values are the number of times a word occurs in the given document.\n",
    "\n",
    "|Doc|I|loved|the|movie|hated|a|great|poor|acting|good|Class|\n",
    "|:--:|:--:|:--:|:--:|:--:|:--:|:--:|:--:|:--:|:--:|:--:|:--:|\n",
    "|1|1|1|1|1| | | | | | |+|\n",
    "|2|1| |1|1|1| | | | | |-|\n",
    "|3| | | |2| |1|1| | |1|+|\n",
    "|4| | | | | | | |1|1| |-|\n",
    "|5| | | |1| |1|1| |1|1|+|\n",
    "\n",
    "probabilities per outcome (+ or -)"
   ]
  },
  {
   "cell_type": "markdown",
   "metadata": {},
   "source": [
    "# Documents with positive outcomes.\n",
    "\n",
    "|Doc|I|loved|the|movie|hated|a|great|poor|acting|good|Class|\n",
    "|:--:|:--:|:--:|:--:|:--:|:--:|:--:|:--:|:--:|:--:|:--:|:--:|\n",
    "|1|1|1|1|1| | | | | | |+|\n",
    "|3| | | |2| |1|1| | |1|+|\n",
    "|5| | | |1| |1|1| |1|1|+|"
   ]
  },
  {
   "cell_type": "markdown",
   "metadata": {},
   "source": [
    "$ P(+) = \\frac{3}{5} = 0.6 $ \n",
    "\n",
    "$ Compute: P(I|+); P(love|+); P(the|+); P(movie|+); P(a|+); P(great|+); P(acting|+); P(good|+) $\n",
    "\n",
    "Let n be the number of words in the (+) case = 14. $ n_k $ the number of times word k occurs in these cases (+)\n",
    "\n",
    "Let $ P(W_k|+) = \\frac {n_k + 1}{n+|Vocabulary|} $ <-- Total wordcount in (+) = 14, Total (unique) Vocabulary = 10 "
   ]
  },
  {
   "cell_type": "markdown",
   "metadata": {},
   "source": [
    "$ P(I|+) : \\frac{1+1}{14+10} = 0.0833; $\n",
    "\n",
    "$ P(loved|+) : \\frac{1+1}{14+10} = 0.0833; $\n",
    "\n",
    "$ P(the|+) : \\frac{1+1}{14+10} = 0.0833; $\n",
    "\n",
    "$ P(movie|+) : \\frac{4+1}{14+10} = 0.2083; $\n",
    "\n",
    "$ P(a|+) : \\frac{2+1}{14+10} = 0.125; $\n",
    "\n",
    "$ P(great|+) : \\frac{2+1}{14+10} = 0.125; $\n",
    "\n",
    "$ P(acting|+) : \\frac{1+1}{14+10} = 0.0833; $\n",
    "\n",
    "$ P(good|+) : \\frac{2+1}{14+10} = 0.125; $\n",
    "\n",
    "$ P(hated|+) : \\frac{0+1}{14+10} = 0.0417; $\n",
    "\n",
    "$ P(poor|+) : \\frac{0+1}{14+10} = 0.0417; $"
   ]
  },
  {
   "cell_type": "markdown",
   "metadata": {},
   "source": [
    "# Documents with negative outcomes.\n",
    "\n",
    "|Doc|I|loved|the|movie|hated|a|great|poor|acting|good|Class|\n",
    "|:--:|:--:|:--:|:--:|:--:|:--:|:--:|:--:|:--:|:--:|:--:|:--:|\n",
    "|2|1| |1|1|1| | | | | |-|\n",
    "|4| | | | | | | |1|1| |-|"
   ]
  },
  {
   "cell_type": "markdown",
   "metadata": {},
   "source": [
    "$ P(-) = \\frac{2}{5} = 0.4 $"
   ]
  },
  {
   "cell_type": "markdown",
   "metadata": {},
   "source": [
    "$ P(I|-) : \\frac{1+1}{6+10} = 0.125; $\n",
    "\n",
    "$ P(the|-) : \\frac{1+1}{6+10} = 0.125; $\n",
    "\n",
    "$ P(movie|-) : \\frac{1+1}{6+10} = 0.125; $\n",
    "\n",
    "$ P(hated|-) : \\frac{1+1}{6+10} = 0.125; $\n",
    "\n",
    "$ P(acting|-) : \\frac{1+1}{6+10} = 0.125; $\n",
    "\n",
    "$ P(loved|-) : \\frac{0+1}{6+10} = 0.125; $\n",
    "\n",
    "$ P(loved|-) : \\frac{0+1}{6+10} = 0.0625; $\n",
    "\n",
    "$ P(a|-) : \\frac{0+1}{6+10} = 0.0625; $\n",
    "\n",
    "$ P(great|-) : \\frac{0+1}{6+10} = 0.0625; $\n",
    "\n",
    "$ P(good|-) : \\frac{0+1}{6+10} = 0.0625; $"
   ]
  },
  {
   "cell_type": "markdown",
   "metadata": {},
   "source": [
    "# \"I hated the poor acting\"\n",
    "\n",
    "if $v_j = +; P(+)P(I|+)P(hated|+)P(the|+)P(poor|+)P(acting|+) = 6.03 * (10)^{-7}$\n",
    "if $v_j = -; P(-)P(I|-)P(hated|-)P(the|-)P(poor|-)P(acting|-) = 1.22 * (10)^{-5}$"
   ]
  },
  {
   "cell_type": "code",
   "execution_count": null,
   "metadata": {
    "collapsed": true
   },
   "outputs": [],
   "source": []
  }
 ],
 "metadata": {
  "anaconda-cloud": {},
  "kernelspec": {
   "display_name": "Python [conda root]",
   "language": "python",
   "name": "conda-root-py"
  },
  "language_info": {
   "codemirror_mode": {
    "name": "ipython",
    "version": 3
   },
   "file_extension": ".py",
   "mimetype": "text/x-python",
   "name": "python",
   "nbconvert_exporter": "python",
   "pygments_lexer": "ipython3",
   "version": "3.5.2"
  }
 },
 "nbformat": 4,
 "nbformat_minor": 1
}
